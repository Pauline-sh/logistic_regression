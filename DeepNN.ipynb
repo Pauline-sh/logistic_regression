{
 "cells": [
  {
   "cell_type": "code",
   "execution_count": 4,
   "metadata": {},
   "outputs": [],
   "source": [
    "%matplotlib inline"
   ]
  },
  {
   "cell_type": "code",
   "execution_count": 5,
   "metadata": {},
   "outputs": [],
   "source": [
    "import numpy as np\n",
    "import matplotlib.pyplot as plt"
   ]
  },
  {
   "cell_type": "code",
   "execution_count": 6,
   "metadata": {},
   "outputs": [],
   "source": [
    "X_data = np.load('Sign-language-digits-dataset/X.npy')\n",
    "Y_data = np.load('Sign-language-digits-dataset/Y.npy')"
   ]
  },
  {
   "cell_type": "code",
   "execution_count": 7,
   "metadata": {},
   "outputs": [
    {
     "name": "stdout",
     "output_type": "stream",
     "text": [
      "(410, 64, 64)\n",
      "(410, 1)\n"
     ]
    },
    {
     "data": {
      "text/plain": [
       "(-0.5, 63.5, 63.5, -0.5)"
      ]
     },
     "execution_count": 7,
     "metadata": {},
     "output_type": "execute_result"
    },
    {
     "data": {
      "image/png": "[encoded data removed]",
      "text/plain": [
       "<Figure size 432x288 with 2 Axes>"
      ]
     },
     "metadata": {
      "needs_background": "light"
     },
     "output_type": "display_data"
    }
   ],
   "source": [
    "X_zeros = X_data[204:409]\n",
    "X_ones = X_data[822:1027]\n",
    "\n",
    "Y_zeros = np.zeros(205)\n",
    "Y_ones = np.ones(205)\n",
    "\n",
    "X = np.concatenate((X_zeros, X_ones), axis=0)\n",
    "Y = np.concatenate((Y_zeros, Y_ones), axis=0).reshape(X.shape[0], 1)\n",
    "\n",
    "print(X.shape)\n",
    "print(Y.shape)\n",
    "\n",
    "plt.subplot(1, 2, 1)\n",
    "plt.imshow(X_zeros[0])\n",
    "plt.axis('off')\n",
    "\n",
    "plt.subplot(1, 2, 2)\n",
    "plt.imshow(X_ones[0])\n",
    "plt.axis('off')"
   ]
  },
  {
   "cell_type": "code",
   "execution_count": 8,
   "metadata": {},
   "outputs": [
    {
     "name": "stdout",
     "output_type": "stream",
     "text": [
      "x train:  (4096, 348)\n",
      "x test:  (4096, 62)\n",
      "y train:  (1, 348)\n",
      "y test:  (1, 62)\n"
     ]
    }
   ],
   "source": [
    "from sklearn.model_selection import train_test_split\n",
    "\n",
    "X_train, X_test, Y_train, Y_test = train_test_split(X, Y, test_size=0.15, random_state=42)\n",
    "\n",
    "number_of_train = X_train.shape[0]\n",
    "number_of_test = X_test.shape[0]\n",
    "\n",
    "X_train = X_train.reshape(number_of_train, X_train.shape[1]*X_train.shape[2]).T\n",
    "X_test = X_test.reshape(number_of_test, X_test.shape[1]*X_test.shape[2]).T\n",
    "Y_train = Y_train.T\n",
    "Y_test = Y_test.T\n",
    "\n",
    "print(\"x train: \", X_train.shape)\n",
    "print(\"x test: \", X_test.shape)\n",
    "print(\"y train: \", Y_train.shape)\n",
    "print(\"y test: \", Y_test.shape)"
   ]
  },
  {
   "cell_type": "markdown",
   "metadata": {},
   "source": [
    "1) Датасет - изображения цифр 0 и 1 на языке жестов\n",
    "2) Задача нейросети - предсказать цифру, изображенную на поданном изображении\n",
    "3) Нейронная сеть с двумя слоями, в 1 слое 3 нейрона, во 2 слое - 1 нейрон\n",
    "4) Функция активации первого слоя - тангенс, функция активации второго - сигмоидальная\n",
    "5) Для вычисления размера ошибки используется кросс-энтропия"
   ]
  },
  {
   "cell_type": "code",
   "execution_count": 18,
   "metadata": {},
   "outputs": [],
   "source": [
    "def initialize_parameters_and_layer_sizes_NN(x_train, y_train):\n",
    "    parameters = {\"weight1\": np.random.randn(3, x_train.shape[0]) * 0.1, # (3, 4096)\n",
    "                  \"bias1\": np.zeros((3, 1)),\n",
    "                  \"weight2\": np.random.randn(y_train.shape[0], 3) * 0.1, # (1, 3)\n",
    "                  \"bias2\": np.zeros((y_train.shape[0], 1))}\n",
    "    return parameters"
   ]
  },
  {
   "cell_type": "code",
   "execution_count": 10,
   "metadata": {},
   "outputs": [],
   "source": [
    "def sigmoid(z):\n",
    "    Y_head = 1/(1 + np.exp(-z))\n",
    "    return Y_head"
   ]
  },
  {
   "cell_type": "code",
   "execution_count": 11,
   "metadata": {},
   "outputs": [],
   "source": [
    "def forward_propagation_NN(x_train, parameters):\n",
    "    Z1 = np.dot(parameters[\"weight1\"], x_train) + parameters[\"bias1\"] # (3, x_train.shape[1])\n",
    "    A1 = np.tanh(Z1) # dTanh/dx = 1 - Tanh(x)^2\n",
    "    Z2 = np.dot(parameters[\"weight2\"], A1) + parameters[\"bias2\"] # (1, x_train.shape[1])\n",
    "    A2 = sigmoid(Z2) # dSigm/dx = 1*(1 - Sigm(x))\n",
    "\n",
    "    cache = {\"Z1\": Z1,\n",
    "             \"A1\": A1,\n",
    "             \"Z2\": Z2,\n",
    "             \"A2\": A2}\n",
    "    \n",
    "    return A2, cache"
   ]
  },
  {
   "cell_type": "code",
   "execution_count": 12,
   "metadata": {},
   "outputs": [],
   "source": [
    "def compute_cost_NN(A2, Y, parameters): # cross-entropy dE/dout = -((y1(1/out)) + (i-y1)(1/(1 - out)))\n",
    "    logprobs = np.multiply(np.log(A2), Y)\n",
    "    cost = -np.sum(logprobs)/Y.shape[1]\n",
    "    return cost"
   ]
  },
  {
   "cell_type": "code",
   "execution_count": 19,
   "metadata": {},
   "outputs": [],
   "source": [
    "def backward_propagation_NN(parameters, cache, X, Y): # dE/dW = dE/dout * dout/din * din/dW\n",
    "    dZ2 = cache[\"A2\"] - Y # dz = dE/dout * dout/din\n",
    "    dW2 = np.dot(dZ2, cache[\"A1\"].T)/X.shape[1] # dE/dW = dz * din/dW\n",
    "    db2 = np.sum(dZ2, axis=1, keepdims=True)/X.shape[1]\n",
    "    \n",
    "    dZ1 = np.dot(parameters[\"weight2\"].T, dZ2)*(1 - np.power(cache[\"A1\"], 2))\n",
    "    dW1 = np.dot(dZ1, X.T)/X.shape[1]\n",
    "    db1 = np.sum(dZ1, axis=1, keepdims=True)/X.shape[1]\n",
    "    \n",
    "    grads = {\"dweight1\": dW1,\n",
    "             \"dbias1\": db1,\n",
    "             \"dweight2\": dW2,\n",
    "             \"dbias2\": db2}\n",
    "    return grads"
   ]
  },
  {
   "cell_type": "code",
   "execution_count": 14,
   "metadata": {},
   "outputs": [],
   "source": [
    "def update_parameters_NN(parameters, grads, learning_rate = 0.01):\n",
    "    parameters = {\"weight1\": parameters[\"weight1\"] - learning_rate*grads[\"dweight1\"],\n",
    "                  \"bias1\": parameters[\"bias1\"] - learning_rate*grads[\"dbias1\"],\n",
    "                  \"weight2\": parameters[\"weight2\"] - learning_rate*grads[\"dweight2\"],\n",
    "                  \"bias2\": parameters[\"bias2\"] - learning_rate*grads[\"dbias2\"]}\n",
    "    \n",
    "    return parameters"
   ]
  },
  {
   "cell_type": "code",
   "execution_count": 15,
   "metadata": {},
   "outputs": [],
   "source": [
    "def predict_NN(parameters, x_test):\n",
    "    A2, cache = forward_propagation_NN(x_test, parameters)\n",
    "    Y_prediction = np.zeros((1, x_test.shape[1]))\n",
    "    for i in range(A2.shape[1]):\n",
    "        if A2[0, i]<= 0.5:\n",
    "            Y_prediction[0, i] = 0\n",
    "        else:\n",
    "            Y_prediction[0, i] = 1\n",
    "\n",
    "    return Y_prediction"
   ]
  },
  {
   "cell_type": "code",
   "execution_count": 16,
   "metadata": {},
   "outputs": [],
   "source": [
    "def two_layer_neural_network(x_train, y_train, x_test, y_test, num_iterations):\n",
    "    cost_list = []\n",
    "    index_list = []\n",
    "    parameters = initialize_parameters_and_layer_sizes_NN(x_train, y_train)\n",
    "\n",
    "    for i in range(0, num_iterations):\n",
    "        A2, cache = forward_propagation_NN(x_train, parameters)\n",
    "        cost = compute_cost_NN(A2, y_train, parameters)\n",
    "        grads = backward_propagation_NN(parameters, cache, x_train, y_train)\n",
    "        parameters = update_parameters_NN(parameters, grads)\n",
    "        \n",
    "        if i % 100 == 0:\n",
    "            cost_list.append(cost)\n",
    "            index_list.append(i)\n",
    "            print (\"Ошибка после %i итерации: %f\" %(i, cost))\n",
    "    plt.plot(index_list,cost_list)\n",
    "    plt.xticks(index_list,rotation='vertical')\n",
    "    plt.xlabel(\"Итерация\")\n",
    "    plt.ylabel(\"Ошибка\")\n",
    "    plt.show()\n",
    "    \n",
    "    y_prediction_test = predict_NN(parameters,x_test)\n",
    "    y_prediction_train = predict_NN(parameters,x_train)\n",
    "\n",
    "    print(\"Точность на тренировочной выборке: {} %\".format(100 - np.mean(np.abs(y_prediction_train - y_train)) * 100))\n",
    "    print(\"Точность на тестовой выборке: {} %\".format(100 - np.mean(np.abs(y_prediction_test - y_test)) * 100))\n",
    "    return parameters"
   ]
  },
  {
   "cell_type": "code",
   "execution_count": 17,
   "metadata": {},
   "outputs": [
    {
     "name": "stdout",
     "output_type": "stream",
     "text": [
      "(3, 4096)\n",
      "(1, 3)\n",
      "Ошибка после 0 итерации: 0.362785\n",
      "Ошибка после 100 итерации: 0.341564\n",
      "Ошибка после 200 итерации: 0.319035\n",
      "Ошибка после 300 итерации: 0.284048\n",
      "Ошибка после 400 итерации: 0.241676\n",
      "Ошибка после 500 итерации: 0.201001\n",
      "Ошибка после 600 итерации: 0.170591\n",
      "Ошибка после 700 итерации: 0.144858\n",
      "Ошибка после 800 итерации: 0.124466\n",
      "Ошибка после 900 итерации: 0.108596\n",
      "Ошибка после 1000 итерации: 0.095517\n",
      "Ошибка после 1100 итерации: 0.082684\n",
      "Ошибка после 1200 итерации: 0.072379\n",
      "Ошибка после 1300 итерации: 0.063971\n",
      "Ошибка после 1400 итерации: 0.057048\n",
      "Ошибка после 1500 итерации: 0.051217\n",
      "Ошибка после 1600 итерации: 0.046130\n",
      "Ошибка после 1700 итерации: 0.041535\n",
      "Ошибка после 1800 итерации: 0.037450\n",
      "Ошибка после 1900 итерации: 0.034046\n",
      "Ошибка после 2000 итерации: 0.031242\n",
      "Ошибка после 2100 итерации: 0.028869\n",
      "Ошибка после 2200 итерации: 0.026822\n",
      "Ошибка после 2300 итерации: 0.025031\n",
      "Ошибка после 2400 итерации: 0.023452\n"
     ]
    },
    {
     "data": {
      "image/png": "[encoded data removed]",
      "text/plain": [
       "<Figure size 432x288 with 1 Axes>"
      ]
     },
     "metadata": {
      "needs_background": "light"
     },
     "output_type": "display_data"
    },
    {
     "name": "stdout",
     "output_type": "stream",
     "text": [
      "Точность на тренировочной выборке: 100.0 %\n",
      "Точность на тестовой выборке: 93.54838709677419 %\n"
     ]
    }
   ],
   "source": [
    "parameters = two_layer_neural_network(X_train, Y_train, X_test, Y_test, num_iterations=2500)"
   ]
  }
 ],
 "metadata": {
  "kernelspec": {
   "display_name": "Python 3",
   "language": "python",
   "name": "python3"
  },
  "language_info": {
   "codemirror_mode": {
    "name": "ipython",
    "version": 3
   },
   "file_extension": ".py",
   "mimetype": "text/x-python",
   "name": "python",
   "nbconvert_exporter": "python",
   "pygments_lexer": "ipython3",
   "version": "3.6.6"
  }
 },
 "nbformat": 4,
 "nbformat_minor": 2
}
