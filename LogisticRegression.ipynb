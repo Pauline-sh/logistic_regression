{
 "cells": [
  {
   "cell_type": "code",
   "execution_count": 37,
   "metadata": {},
   "outputs": [],
   "source": [
    "%matplotlib inline"
   ]
  },
  {
   "cell_type": "code",
   "execution_count": 3,
   "metadata": {},
   "outputs": [],
   "source": [
    "import numpy as np\n",
    "import matplotlib.pyplot as plt"
   ]
  },
  {
   "cell_type": "code",
   "execution_count": 4,
   "metadata": {},
   "outputs": [],
   "source": [
    "X_data = np.load('Sign-language-digits-dataset/X.npy')\n",
    "Y_data = np.load('Sign-language-digits-dataset/Y.npy')"
   ]
  },
  {
   "cell_type": "code",
   "execution_count": 15,
   "metadata": {
    "scrolled": true
   },
   "outputs": [
    {
     "name": "stdout",
     "output_type": "stream",
     "text": [
      "(410, 64, 64)\n",
      "(410, 1)\n"
     ]
    },
    {
     "data": {
      "text/plain": [
       "(-0.5, 63.5, 63.5, -0.5)"
      ]
     },
     "execution_count": 15,
     "metadata": {},
     "output_type": "execute_result"
    },
    {
     "data": {
      "image/png": "[encoded data removed]",
      "text/plain": [
       "<Figure size 432x288 with 2 Axes>"
      ]
     },
     "metadata": {
      "needs_background": "light"
     },
     "output_type": "display_data"
    }
   ],
   "source": [
    "X_zeros = X_data[204:409]\n",
    "X_ones = X_data[822:1027]\n",
    "\n",
    "Y_zeros = np.zeros(205)\n",
    "Y_ones = np.ones(205)\n",
    "\n",
    "X = np.concatenate((X_zeros, X_ones), axis=0)\n",
    "Y = np.concatenate((Y_zeros, Y_ones), axis=0).reshape(X.shape[0], 1)\n",
    "\n",
    "print(X.shape)\n",
    "print(Y.shape)\n",
    "\n",
    "plt.subplot(1, 2, 1)\n",
    "plt.imshow(X_zeros[0])\n",
    "plt.axis('off')\n",
    "\n",
    "plt.subplot(1, 2, 2)\n",
    "plt.imshow(X_ones[0])\n",
    "plt.axis('off')"
   ]
  },
  {
   "cell_type": "code",
   "execution_count": 51,
   "metadata": {},
   "outputs": [
    {
     "name": "stdout",
     "output_type": "stream",
     "text": [
      "x train:  (4096, 348)\n",
      "x test:  (4096, 62)\n",
      "y train:  (1, 348)\n",
      "y test:  (1, 62)\n"
     ]
    }
   ],
   "source": [
    "from sklearn.model_selection import train_test_split\n",
    "\n",
    "X_train, X_test, Y_train, Y_test = train_test_split(X, Y, test_size=0.15, random_state=42)\n",
    "\n",
    "number_of_train = X_train.shape[0]\n",
    "number_of_test = X_test.shape[0]\n",
    "\n",
    "X_train = X_train.reshape(number_of_train, X_train.shape[1]*X_train.shape[2]).T\n",
    "X_test = X_test.reshape(number_of_test, X_test.shape[1]*X_test.shape[2]).T\n",
    "Y_train = Y_train.T\n",
    "Y_test = Y_test.T\n",
    "\n",
    "print(\"x train: \", X_train.shape)\n",
    "print(\"x test: \", X_test.shape)\n",
    "print(\"y train: \", Y_train.shape)\n",
    "print(\"y test: \", Y_test.shape)"
   ]
  },
  {
   "cell_type": "code",
   "execution_count": 52,
   "metadata": {},
   "outputs": [],
   "source": [
    "def sigmoid(z):\n",
    "    Y_head = 1/(1 + np.exp(-z))\n",
    "    return Y_head\n",
    "\n",
    "def sigmoid_der(Y_head):\n",
    "    derivative = np.multiply(Y_head, (1 - Y_head))\n",
    "    return derivative\n",
    "\n",
    "def binary_cross_entropy(Y_train, Y_head):\n",
    "    loss = -Y_train * np.log(Y_head) - (1 - Y_train) * np.log(1 - Y_head)\n",
    "    return loss\n",
    "\n",
    "def binary_cross_entropy_der_by_sigmoid(X_train, Y_train, Y_head):    \n",
    "    weights_der = (np.dot(X_train, ((Y_head - Y_train).T)))/X_train.shape[1]\n",
    "    bias_der = np.sum(Y_head - Y_train)/X_train.shape[1]\n",
    "    return weights_der, bias_der"
   ]
  },
  {
   "cell_type": "code",
   "execution_count": 65,
   "metadata": {},
   "outputs": [],
   "source": [
    "def initialize_weights_and_bias(dimension):\n",
    "    # w = np.random.rand(dimension, 1)\n",
    "    w = np.full((dimension, 1), 0.01)\n",
    "    b = 0.0\n",
    "    return w, b\n",
    "\n",
    "def forward_prop(w, b, X_train, Y_train):\n",
    "    z = np.dot(w.T, X_train) + b\n",
    "    Y_head = sigmoid(z)\n",
    "    loss = binary_cross_entropy(Y_train, Y_head)\n",
    "    cost = (np.sum(loss))/X_train.shape[1] # Y_train.shape[1] для нормализации\n",
    "    return Y_head, cost\n",
    "\n",
    "def backward_prop(X_train, Y_train, Y_head):\n",
    "    weights_der, bias_der = binary_cross_entropy_der_by_sigmoid(X_train, Y_train, Y_head)\n",
    "    return weights_der, bias_der"
   ]
  },
  {
   "cell_type": "code",
   "execution_count": 60,
   "metadata": {},
   "outputs": [],
   "source": [
    "def predict(w, b, X_test):\n",
    "    z = sigmoid(np.dot(w.T, X_test) + b)\n",
    "    Y_prediction = np.zeros((1, X_test.shape[1]))\n",
    "    for i in range(z.shape[1]):\n",
    "        if z[0, i] <= 0.5:\n",
    "            Y_prediction[0, i] = 0\n",
    "        else:\n",
    "            Y_prediction[0, i] = 1\n",
    "\n",
    "    return Y_prediction"
   ]
  },
  {
   "cell_type": "code",
   "execution_count": 49,
   "metadata": {},
   "outputs": [],
   "source": [
    "def logistic_regression(X_train, X_test, Y_train, Y_test, learning_rate, num_iterations):\n",
    "    w, b = initialize_weights_and_bias(X_train.shape[0])\n",
    "    \n",
    "    cost_list = []\n",
    "    index = []\n",
    "    \n",
    "    for it in range(num_iterations):\n",
    "        Y_head, cost = forward_prop(w, b, X_train, Y_train)\n",
    "        weights_der, bias_der = backward_prop(X_train, Y_train, Y_head)\n",
    "        \n",
    "        # update weigths and bias\n",
    "        w = w - learning_rate * weights_der\n",
    "        b = b - learning_rate * bias_der\n",
    "        \n",
    "        if it % 10 == 0:            \n",
    "            cost_list.append(cost)\n",
    "            index.append(it)\n",
    "            print(\"Ошибка после %i итерации: %f\" %(it, cost))            \n",
    "    \n",
    "    parameters = {\"weights\": w,\"bias\": b}\n",
    "    plt.plot(index, cost_list)\n",
    "    # plt.xticks(index, rotation='vertical')\n",
    "    plt.xlabel(\"Итерация\")\n",
    "    plt.ylabel(\"Ошибка\")\n",
    "    plt.show()\n",
    "    \n",
    "    return parameters, cost_list"
   ]
  },
  {
   "cell_type": "code",
   "execution_count": 66,
   "metadata": {},
   "outputs": [
    {
     "name": "stdout",
     "output_type": "stream",
     "text": [
      "Ошибка после 0 итерации: 14.014222\n",
      "Ошибка после 10 итерации: 4.145042\n",
      "Ошибка после 20 итерации: 2.452003\n",
      "Ошибка после 30 итерации: 1.916513\n",
      "Ошибка после 40 итерации: 2.019878\n",
      "Ошибка после 50 итерации: 2.161673\n",
      "Ошибка после 60 итерации: 2.310249\n",
      "Ошибка после 70 итерации: 2.380660\n",
      "Ошибка после 80 итерации: 2.244609\n",
      "Ошибка после 90 итерации: 1.926348\n",
      "Ошибка после 100 итерации: 1.255284\n",
      "Ошибка после 110 итерации: 0.282154\n",
      "Ошибка после 120 итерации: 0.194603\n",
      "Ошибка после 130 итерации: 0.183633\n",
      "Ошибка после 140 итерации: 0.173899\n"
     ]
    },
    {
     "data": {
      "image/png": "[encoded data removed]",
      "text/plain": [
       "<Figure size 432x288 with 1 Axes>"
      ]
     },
     "metadata": {
      "needs_background": "light"
     },
     "output_type": "display_data"
    },
    {
     "name": "stdout",
     "output_type": "stream",
     "text": [
      "Точность на тренировочной выборке: 92.816091954023 %\n",
      "Точность на тестовой выборке: 95.16129032258064 %\n"
     ]
    }
   ],
   "source": [
    "parameters, cost_list = logistic_regression(X_train, X_test, Y_train, Y_test, learning_rate = 0.02, num_iterations = 150)\n",
    "\n",
    "y_prediction_test = predict(parameters[\"weights\"], parameters[\"bias\"], X_test)\n",
    "y_prediction_train = predict(parameters[\"weights\"], parameters[\"bias\"], X_train)\n",
    "\n",
    "print(\"Точность на тренировочной выборке: {} %\".format(100 - np.mean(np.abs(y_prediction_train - Y_train)) * 100))\n",
    "print(\"Точность на тестовой выборке: {} %\".format(100 - np.mean(np.abs(y_prediction_test - Y_test)) * 100))"
   ]
  }
 ],
 "metadata": {
  "kernelspec": {
   "display_name": "Python 3",
   "language": "python",
   "name": "python3"
  },
  "language_info": {
   "codemirror_mode": {
    "name": "ipython",
    "version": 3
   },
   "file_extension": ".py",
   "mimetype": "text/x-python",
   "name": "python",
   "nbconvert_exporter": "python",
   "pygments_lexer": "ipython3",
   "version": "3.6.6"
  }
 },
 "nbformat": 4,
 "nbformat_minor": 2
}
